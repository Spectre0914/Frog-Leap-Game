{
 "cells": [
  {
   "cell_type": "markdown",
   "metadata": {
    "id": "fxZte1ZuP3yr"
   },
   "source": [
    "# Problem statement\n",
    "\n",
    "Create famous 'Frog leap' puzzle game. Try completing the game before starting to get an idea about its working.\n",
    "[Demonstration](https://www.neok12.com/games/leap-froggies/leap-froggies.htm).\n",
    "\n",
    "\n",
    "### Rules ###\n",
    "1. The left set of frogs can only move right, the right set of frogs can only move left.\n",
    "2. Frogs can move forward one space, or move two spaces by jumping over another frog from opposite side.\n",
    "3. The puzzle is solved when the two sets of frogs have switched positions.\n",
    "\n",
    "\n",
    "## Steps to solve the problem:\n",
    "### Step1:-\n",
    "- Display green and brown frogs on the left and right sides initially.\n",
    "\n",
    "Initial Display :-  \n",
    "```\n",
    "[ 0 ,  1 ,  2 ,  3 ,  4 ,  5 ,  6 ]\n",
    "['G', 'G', 'G', '-', 'B', 'B', 'B']\n",
    "```\n",
    "<br>\n",
    "Here 'G' represents Green frogs on the left side and 'B' represents brown frogs on the right side. The '-' defines the position of empty leaf.\n",
    "(You can change display according to your imagination or convinience)\n",
    "\n",
    "### Step2:-\n",
    "Accept positions of the frog that you want to move.<br>\n",
    "Example: If we enter position 2 then the game will look like this:-\n",
    "```\n",
    "[ 0 ,  1 ,  2 ,  3 ,  4 ,  5 ,  6 ]\n",
    "['G', 'G', '-', 'G', 'B', 'B', 'B']\n",
    "```\n",
    "\n",
    "### Step3:- ###\n",
    "Define Invalid moves and add conditional 'if' statements accordingly\n",
    "#### Rules\n",
    "1. Entered position should be between 0 to 6. Or a character 'q' to quit the game.\n",
    "2. Entered position cannot be the position of empty leaf.\n",
    "3. If the selected frog position cannot perform the contraints given in rule 2 then the move is invalid.\n",
    "\n",
    "### Step4:-\n",
    "Make the appropriate move by changing the game display."
   ]
  },
  {
   "cell_type": "markdown",
   "metadata": {
    "id": "-viYJbAFQXcJ"
   },
   "source": [
    "## Step 1\n",
    "First create a list `positions` which contains the characters 'G','B' and '-' in the same sequence as given in the initial display state."
   ]
  },
  {
   "cell_type": "code",
   "execution_count": 1,
   "metadata": {
    "executionInfo": {
     "elapsed": 1720,
     "status": "ok",
     "timestamp": 1719134193288,
     "user": {
      "displayName": "Rushikesh Konapure",
      "userId": "14876714731917346122"
     },
     "user_tz": -330
    },
    "id": "fSvLBrjwP0sr"
   },
   "outputs": [],
   "source": [
    "### your code here\n",
    "positions = ['G','G','G','-','B','B','B']"
   ]
  },
  {
   "cell_type": "markdown",
   "metadata": {
    "id": "unr1AJLSQj_4"
   },
   "source": [
    "Now print this string ```[ 0 ,  1 ,  2 ,  3 ,  4 ,  5 ,  6 ]``` and after that print the list `positions`"
   ]
  },
  {
   "cell_type": "code",
   "execution_count": 2,
   "metadata": {
    "colab": {
     "base_uri": "https://localhost:8080/"
    },
    "executionInfo": {
     "elapsed": 422,
     "status": "ok",
     "timestamp": 1719134580242,
     "user": {
      "displayName": "Rushikesh Konapure",
      "userId": "14876714731917346122"
     },
     "user_tz": -330
    },
    "id": "qqKLcfEmQgiZ",
    "outputId": "69f2cbac-0a26-409f-d306-66f1bf38e1b3"
   },
   "outputs": [
    {
     "name": "stdout",
     "output_type": "stream",
     "text": [
      "[ 0 ,  1 ,  2 ,  3 ,  4 ,  5 ,  6 ]\n",
      "['G', 'G', 'G', '-', 'B', 'B', 'B']\n"
     ]
    }
   ],
   "source": [
    "### your code here\n",
    "print('[ 0 ,  1 ,  2 ,  3 ,  4 ,  5 ,  6 ]')\n",
    "print(positions)"
   ]
  },
  {
   "cell_type": "markdown",
   "metadata": {
    "id": "DuEVsgtjQqXV"
   },
   "source": [
    "Take position input from user and write a message as `\"Press q to quit else \\nEnter position of piece:\"`."
   ]
  },
  {
   "cell_type": "code",
   "execution_count": 3,
   "metadata": {
    "id": "nPz65EKXQnDR"
   },
   "outputs": [
    {
     "name": "stdin",
     "output_type": "stream",
     "text": [
      "Press q to quit else \n",
      "Enter position of piece: 4\n"
     ]
    }
   ],
   "source": [
    "### your code here\n",
    "pos = input(\"Press q to quit else \\nEnter position of piece:\")"
   ]
  },
  {
   "cell_type": "markdown",
   "metadata": {
    "id": "ejy_x_eTRJmT"
   },
   "source": [
    "Now the taken input is in string format. So first check if the input is `'q'` character. If input is `'q'` then the person is quiting the game so print `'You Lose'`."
   ]
  },
  {
   "cell_type": "code",
   "execution_count": 4,
   "metadata": {
    "id": "1OrsC7P9QxO6"
   },
   "outputs": [],
   "source": [
    "### your code here\n",
    "if pos == 'q':\n",
    "    print('You Lose!')"
   ]
  },
  {
   "cell_type": "markdown",
   "metadata": {
    "id": "yZJeDTGlRSMe"
   },
   "source": [
    "Next if input character is not `'q'` then it has to be some integer. so convert input to integer format."
   ]
  },
  {
   "cell_type": "code",
   "execution_count": 5,
   "metadata": {
    "id": "PWZj_Js6RP2G"
   },
   "outputs": [],
   "source": [
    "### your code here\n",
    "pos = int(pos)"
   ]
  },
  {
   "cell_type": "markdown",
   "metadata": {
    "id": "SyCzN-cYRXZa"
   },
   "source": [
    "## Step 2\n",
    "Now we have to check validity of the selected positions or move.<br>\n",
    "If the entered number isn't between 0 and 6, then print 'Invalid move'."
   ]
  },
  {
   "cell_type": "code",
   "execution_count": 6,
   "metadata": {
    "id": "8_edLqe2RU8S"
   },
   "outputs": [],
   "source": [
    "### your code here\n",
    "if pos < 0 or pos > 6:\n",
    "    print('Invalid Move!')"
   ]
  },
  {
   "cell_type": "markdown",
   "metadata": {
    "id": "Va03g0l5Rlkx"
   },
   "source": [
    "A frog should be present on the selected position to make a move. If leaf is selected then it doesn't make sense. Therefore, if entered postition is same as the postition of empty leaf then the move is invalid and print `Invalid Move`"
   ]
  },
  {
   "cell_type": "code",
   "execution_count": 7,
   "metadata": {
    "id": "uM2-D1xGRiH4"
   },
   "outputs": [],
   "source": [
    "### your code here\n",
    "if positions[pos] == '-':\n",
    "    print('Invalid Move!')"
   ]
  },
  {
   "cell_type": "markdown",
   "metadata": {
    "id": "cp5q2ahQTnwI"
   },
   "source": [
    "Initialize a variable named `pos2` at value 0, to store the index of empty leaf, so that we can use it later."
   ]
  },
  {
   "cell_type": "code",
   "execution_count": 8,
   "metadata": {
    "id": "1SkBYDnaTpiV"
   },
   "outputs": [],
   "source": [
    "### your code here\n",
    "pos2 = 0"
   ]
  },
  {
   "cell_type": "markdown",
   "metadata": {
    "id": "V9UFD623R3Oa"
   },
   "source": [
    "```   \n",
    "    Check if the selected frog is 'G':\n",
    "  \n",
    "        (Inside if when it's 'G'. As 'G' is selected frog can move to right only.)\n",
    "        \n",
    "        ❗condition 1\n",
    "\n",
    "        If **selected_position + 1** is less than or equal to 6 and **curent_position + 1** contains '-'\n",
    "        then it's a valid move and store that postion in `pos2`.\n",
    "        \n",
    "        ❗condition2\n",
    "\n",
    "        Else if **selected_position + 2** is less than or equal to 6 and if **current_position + 2**\n",
    "        contains '-' and if **selected_position + 1** contains 'B' then it's a valid move  and store that postion in `pos2`.\n",
    "        \n",
    "        ❗condition3:\n",
    "\n",
    "        Else remainig all are invalid, so print `Invalid Move`\n",
    "      \n",
    "```"
   ]
  },
  {
   "cell_type": "code",
   "execution_count": 9,
   "metadata": {
    "id": "IDHxpibURriq"
   },
   "outputs": [],
   "source": [
    "### your code here\n",
    "if positions[pos] == 'G':\n",
    "    if pos + 1 <= 6 and positions[pos + 1] == '-':\n",
    "        pos2 = pos + 1\n",
    "    elif pos + 2 <= 6 and positions[pos + 2] == '-' and positions[pos + 1] == 'B':\n",
    "        pos2 = pos + 2\n",
    "    else:\n",
    "        print('Invalid Move!')"
   ]
  },
  {
   "cell_type": "markdown",
   "metadata": {
    "id": "DyQX5nUsTZPF"
   },
   "source": [
    "```\n",
    "    Check if the selected frog is 'B':\n",
    "    \n",
    "        (Inside if when it's 'B'. As 'B' is selected frog can move to left only.)\n",
    "        \n",
    "        ❗condition1:\n",
    "\n",
    "        If **selected_position - 1** is more than or equal to 0 and **curent_position - 1** contains '-' then\n",
    "        it's a valid move and and store that postion in `pos2`.\n",
    "        \n",
    "        ❗condition2:\n",
    "\n",
    "        Else if **selected_position - 2** is more than or equal to 0 and if **current_position - 2** contains '-'\n",
    "        and if **selected_position - 1** contains 'G' then it's a valid move and and store that postion in `pos2`.\n",
    "\n",
    "        ❗condition3:\n",
    "        \n",
    "        Else remainig all are invalid,, so print `Invalid Move`.\n",
    "        \n",
    "```"
   ]
  },
  {
   "cell_type": "code",
   "execution_count": 10,
   "metadata": {
    "id": "cQ2G3ZO_TWU5"
   },
   "outputs": [],
   "source": [
    "### your code here\n",
    "if positions[pos] == 'B':\n",
    "    if pos - 1 <= 6 and positions[pos - 1] == '-':\n",
    "        pos2 = pos - 1\n",
    "    elif pos - 2 <= 6 and positions[pos - 2] == '-' and positions[pos - 1] == 'G':\n",
    "        pos2 = pos - 2\n",
    "    else:\n",
    "        print('Invalid Move!')"
   ]
  },
  {
   "cell_type": "markdown",
   "metadata": {
    "id": "Vads2oztUd4g"
   },
   "source": [
    "Swap the element at selected positions and calculated position2 in the list.<br> So basically we are moving the frog to next valid position by swapping elelments of array."
   ]
  },
  {
   "cell_type": "code",
   "execution_count": 11,
   "metadata": {
    "id": "jXOGtww7UeYQ"
   },
   "outputs": [],
   "source": [
    "### your code here\n",
    "positions[pos2], positions[pos] = positions[pos], positions[pos2]"
   ]
  },
  {
   "cell_type": "markdown",
   "metadata": {
    "id": "8qF4Q2HsUlZ4"
   },
   "source": [
    "Now print the display of the game again to see the change.<br>\n",
    "If we enter position 2 then the output will look like this:-\n",
    "```\n",
    "[ 0 ,  1 ,  2 ,  3 ,  4 ,  5 ,  6 ]\n",
    "['G', 'G', '-', 'G', 'B', 'B', 'B']\n",
    "```"
   ]
  },
  {
   "cell_type": "code",
   "execution_count": 12,
   "metadata": {
    "id": "0S3oNzG3UifK"
   },
   "outputs": [
    {
     "name": "stdout",
     "output_type": "stream",
     "text": [
      "[ 0 ,  1 ,  2 ,  3 ,  4 ,  5 ,  6 ]\n",
      "['G', 'G', 'G', 'B', '-', 'B', 'B']\n"
     ]
    }
   ],
   "source": [
    "### your code here\n",
    "print('[ 0 ,  1 ,  2 ,  3 ,  4 ,  5 ,  6 ]')\n",
    "print(positions)"
   ]
  },
  {
   "cell_type": "markdown",
   "metadata": {
    "id": "EILVGu48UsH-"
   },
   "source": [
    "Check for winning condition by comparing the elements of list. If player has won the game print `'You Win'`"
   ]
  },
  {
   "cell_type": "code",
   "execution_count": 13,
   "metadata": {
    "id": "GYkZdiA6Uote"
   },
   "outputs": [],
   "source": [
    "### your code here\n",
    "if positions == ['B','B','B','-','G','G','G']:\n",
    "    print(\"You Win!!!!\")"
   ]
  },
  {
   "cell_type": "markdown",
   "metadata": {
    "id": "a2a0HHjiUyQ8"
   },
   "source": [
    "Now the game should keep running until the player quits, so place all conditional statements inside an infinite loop.<br>\n",
    "\n",
    "1. We have to `'break'` the loop if the player presses `'q'` and quits.\n",
    "\n",
    "2. If the move made by player is `'Invalid Move'` then we have to `'continue'` without executing remaining part of the selected iteration.\n",
    "\n",
    "3. If player wins the game we have to `break` the loop.\n",
    "\n",
    "\n",
    "```\n",
    "Infinite loop:\n",
    "    (inside loop)\n",
    "    1.Take input\n",
    "    2.Check all valid and invalid conditions of `pos`.\n",
    "    3.Make the appropriate move by calculating `pos2`.\n",
    "    4.Display game\n",
    "    4.Check winning condition\n",
    "```"
   ]
  },
  {
   "cell_type": "markdown",
   "metadata": {
    "id": "9Bj7ZyE-WN0v"
   },
   "source": [
    "END"
   ]
  },
  {
   "cell_type": "code",
   "execution_count": 14,
   "metadata": {},
   "outputs": [
    {
     "name": "stdout",
     "output_type": "stream",
     "text": [
      "[ 0 ,  1 ,  2 ,  3 ,  4 ,  5 ,  6 ]\n",
      "['G', 'G', 'G', '-', 'B', 'B', 'B']\n"
     ]
    },
    {
     "name": "stdin",
     "output_type": "stream",
     "text": [
      "\n",
      "Press q to Quit \n",
      "Enter Position of Piece you want to move:  0\n"
     ]
    },
    {
     "name": "stdout",
     "output_type": "stream",
     "text": [
      "\n",
      "Invalid Move. Please Enter a Valid Move.\n",
      "\n"
     ]
    },
    {
     "name": "stdin",
     "output_type": "stream",
     "text": [
      "\n",
      "Press q to Quit \n",
      "Enter Position of Piece you want to move:  6\n"
     ]
    },
    {
     "name": "stdout",
     "output_type": "stream",
     "text": [
      "\n",
      "Invalid Move. Please Enter a Valid Move.\n",
      "\n"
     ]
    },
    {
     "name": "stdin",
     "output_type": "stream",
     "text": [
      "\n",
      "Press q to Quit \n",
      "Enter Position of Piece you want to move:  2\n"
     ]
    },
    {
     "name": "stdout",
     "output_type": "stream",
     "text": [
      "[ 0 ,  1 ,  2 ,  3 ,  4 ,  5 ,  6 ]\n",
      "['G', 'G', '-', 'G', 'B', 'B', 'B']\n"
     ]
    },
    {
     "name": "stdin",
     "output_type": "stream",
     "text": [
      "\n",
      "Press q to Quit \n",
      "Enter Position of Piece you want to move:  4\n"
     ]
    },
    {
     "name": "stdout",
     "output_type": "stream",
     "text": [
      "[ 0 ,  1 ,  2 ,  3 ,  4 ,  5 ,  6 ]\n",
      "['G', 'G', 'B', 'G', '-', 'B', 'B']\n"
     ]
    },
    {
     "name": "stdin",
     "output_type": "stream",
     "text": [
      "\n",
      "Press q to Quit \n",
      "Enter Position of Piece you want to move:  5\n"
     ]
    },
    {
     "name": "stdout",
     "output_type": "stream",
     "text": [
      "[ 0 ,  1 ,  2 ,  3 ,  4 ,  5 ,  6 ]\n",
      "['G', 'G', 'B', 'G', 'B', '-', 'B']\n"
     ]
    },
    {
     "name": "stdin",
     "output_type": "stream",
     "text": [
      "\n",
      "Press q to Quit \n",
      "Enter Position of Piece you want to move:  3\n"
     ]
    },
    {
     "name": "stdout",
     "output_type": "stream",
     "text": [
      "[ 0 ,  1 ,  2 ,  3 ,  4 ,  5 ,  6 ]\n",
      "['G', 'G', 'B', '-', 'B', 'G', 'B']\n"
     ]
    },
    {
     "name": "stdin",
     "output_type": "stream",
     "text": [
      "\n",
      "Press q to Quit \n",
      "Enter Position of Piece you want to move:  1\n"
     ]
    },
    {
     "name": "stdout",
     "output_type": "stream",
     "text": [
      "[ 0 ,  1 ,  2 ,  3 ,  4 ,  5 ,  6 ]\n",
      "['G', '-', 'B', 'G', 'B', 'G', 'B']\n"
     ]
    },
    {
     "name": "stdin",
     "output_type": "stream",
     "text": [
      "\n",
      "Press q to Quit \n",
      "Enter Position of Piece you want to move:  0\n"
     ]
    },
    {
     "name": "stdout",
     "output_type": "stream",
     "text": [
      "[ 0 ,  1 ,  2 ,  3 ,  4 ,  5 ,  6 ]\n",
      "['-', 'G', 'B', 'G', 'B', 'G', 'B']\n"
     ]
    },
    {
     "name": "stdin",
     "output_type": "stream",
     "text": [
      "\n",
      "Press q to Quit \n",
      "Enter Position of Piece you want to move:  2\n"
     ]
    },
    {
     "name": "stdout",
     "output_type": "stream",
     "text": [
      "[ 0 ,  1 ,  2 ,  3 ,  4 ,  5 ,  6 ]\n",
      "['B', 'G', '-', 'G', 'B', 'G', 'B']\n"
     ]
    },
    {
     "name": "stdin",
     "output_type": "stream",
     "text": [
      "\n",
      "Press q to Quit \n",
      "Enter Position of Piece you want to move:  4\n"
     ]
    },
    {
     "name": "stdout",
     "output_type": "stream",
     "text": [
      "[ 0 ,  1 ,  2 ,  3 ,  4 ,  5 ,  6 ]\n",
      "['B', 'G', 'B', 'G', '-', 'G', 'B']\n"
     ]
    },
    {
     "name": "stdin",
     "output_type": "stream",
     "text": [
      "\n",
      "Press q to Quit \n",
      "Enter Position of Piece you want to move:  6\n"
     ]
    },
    {
     "name": "stdout",
     "output_type": "stream",
     "text": [
      "[ 0 ,  1 ,  2 ,  3 ,  4 ,  5 ,  6 ]\n",
      "['B', 'G', 'B', 'G', 'B', 'G', '-']\n"
     ]
    },
    {
     "name": "stdin",
     "output_type": "stream",
     "text": [
      "\n",
      "Press q to Quit \n",
      "Enter Position of Piece you want to move:  5\n"
     ]
    },
    {
     "name": "stdout",
     "output_type": "stream",
     "text": [
      "[ 0 ,  1 ,  2 ,  3 ,  4 ,  5 ,  6 ]\n",
      "['B', 'G', 'B', 'G', 'B', '-', 'G']\n"
     ]
    },
    {
     "name": "stdin",
     "output_type": "stream",
     "text": [
      "\n",
      "Press q to Quit \n",
      "Enter Position of Piece you want to move:  3\n"
     ]
    },
    {
     "name": "stdout",
     "output_type": "stream",
     "text": [
      "[ 0 ,  1 ,  2 ,  3 ,  4 ,  5 ,  6 ]\n",
      "['B', 'G', 'B', '-', 'B', 'G', 'G']\n"
     ]
    },
    {
     "name": "stdin",
     "output_type": "stream",
     "text": [
      "\n",
      "Press q to Quit \n",
      "Enter Position of Piece you want to move:  1\n"
     ]
    },
    {
     "name": "stdout",
     "output_type": "stream",
     "text": [
      "[ 0 ,  1 ,  2 ,  3 ,  4 ,  5 ,  6 ]\n",
      "['B', '-', 'B', 'G', 'B', 'G', 'G']\n"
     ]
    },
    {
     "name": "stdin",
     "output_type": "stream",
     "text": [
      "\n",
      "Press q to Quit \n",
      "Enter Position of Piece you want to move:  2\n"
     ]
    },
    {
     "name": "stdout",
     "output_type": "stream",
     "text": [
      "[ 0 ,  1 ,  2 ,  3 ,  4 ,  5 ,  6 ]\n",
      "['B', 'B', '-', 'G', 'B', 'G', 'G']\n"
     ]
    },
    {
     "name": "stdin",
     "output_type": "stream",
     "text": [
      "\n",
      "Press q to Quit \n",
      "Enter Position of Piece you want to move:  4\n"
     ]
    },
    {
     "name": "stdout",
     "output_type": "stream",
     "text": [
      "[ 0 ,  1 ,  2 ,  3 ,  4 ,  5 ,  6 ]\n",
      "['B', 'B', 'B', 'G', '-', 'G', 'G']\n"
     ]
    },
    {
     "name": "stdin",
     "output_type": "stream",
     "text": [
      "\n",
      "Press q to Quit \n",
      "Enter Position of Piece you want to move:  3\n"
     ]
    },
    {
     "name": "stdout",
     "output_type": "stream",
     "text": [
      "[ 0 ,  1 ,  2 ,  3 ,  4 ,  5 ,  6 ]\n",
      "['B', 'B', 'B', '-', 'G', 'G', 'G']\n",
      "\n",
      "You Win!!!!\n"
     ]
    }
   ],
   "source": [
    "## Initializing the positions\n",
    "positions = ['G', 'G', 'G', '-', 'B', 'B', 'B']\n",
    "#Displaying the game board\n",
    "print(\"[ 0 ,  1 ,  2 ,  3 ,  4 ,  5 ,  6 ]\")\n",
    "print(positions)\n",
    "\n",
    "#Starting using while for an infinite loop\n",
    "while True:\n",
    "    #Promt for User\n",
    "    pos = input('\\nPress q to Quit \\nEnter Position of Piece you want to move: ').lower()\n",
    "    #Making a Quit Condition\n",
    "    if pos == 'q':\n",
    "        print('\\nYou Lose!!!!')\n",
    "        break\n",
    "    #To check for Valid Inputs\n",
    "    try:\n",
    "        pos = int(pos)\n",
    "    except ValueError:\n",
    "        print('\\nInvalid input. Please Enter a number between 0-6 or q to Quit.')\n",
    "        continue\n",
    "    #Checking the Valid Range of the Input\n",
    "    if pos < 0 or pos > 6:\n",
    "        print('\\nInvalid Move. Please Enter a Valid Move.\\n')\n",
    "        continue\n",
    "    #Checking to see if the Position has a Frog or is Empty.\n",
    "    if positions[pos] == '-':\n",
    "        print('\\nInvalid Move. Please Enter a Valid Move.\\n')\n",
    "        continue\n",
    "    #Initializing variable to 0 to use it for the new position\n",
    "    pos2 = 0\n",
    "    #Checking for Valid Moves for 'G'\n",
    "    if positions[pos] == 'G':\n",
    "        if (pos + 1) <= 6 and positions[pos + 1] == '-':\n",
    "            pos2 = pos + 1\n",
    "        elif (pos + 2) <= 6 and positions[pos + 2] == '-' and positions[pos + 1] == 'B':\n",
    "            pos2 = pos + 2\n",
    "        else:\n",
    "            print('\\nInvalid Move. Please Enter a Valid Move.\\n')\n",
    "            continue\n",
    "    #Checking for Valid Moves for 'B'\n",
    "    if positions[pos] == 'B':\n",
    "        if (pos - 1) >= 0 and positions[pos - 1] == '-':\n",
    "            pos2 = pos - 1\n",
    "        elif (pos - 2) >= 0 and positions[pos - 2] == '-' and positions[pos - 1] == 'G':\n",
    "            pos2 = pos - 2\n",
    "        else:\n",
    "            print('\\nInvalid Move. Please Enter a Valid Move.\\n')\n",
    "            continue\n",
    "    #Moving the Frog to thier new Position\n",
    "    positions[pos], positions[pos2] = positions[pos2], positions[pos]\n",
    "    print(\"[ 0 ,  1 ,  2 ,  3 ,  4 ,  5 ,  6 ]\")\n",
    "    #Displaying the Updated Game Board\n",
    "    print(positions)\n",
    "    #Inserting the Win Condition\n",
    "    if positions == ['B', 'B', 'B', '-', 'G', 'G', 'G']:\n",
    "        print(\"\\nYou Win!!!!\")\n",
    "        break"
   ]
  }
 ],
 "metadata": {
  "colab": {
   "provenance": []
  },
  "kernelspec": {
   "display_name": "Python 3 (ipykernel)",
   "language": "python",
   "name": "python3"
  },
  "language_info": {
   "codemirror_mode": {
    "name": "ipython",
    "version": 3
   },
   "file_extension": ".py",
   "mimetype": "text/x-python",
   "name": "python",
   "nbconvert_exporter": "python",
   "pygments_lexer": "ipython3",
   "version": "3.11.7"
  }
 },
 "nbformat": 4,
 "nbformat_minor": 4
}
